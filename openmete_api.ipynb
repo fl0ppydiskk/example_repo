{
 "cells": [
  {
   "cell_type": "markdown",
   "id": "e31bec6c-99e5-430b-bd03-99b703689362",
   "metadata": {},
   "source": [
    "I tried both Open Meteo and Tomorrow. Honestly, both of them were quite a brainfuck for me :D But in the end I found, after searching for what felt for hours, the link to the API on Open Meteo, so here we are. And I like open data."
   ]
  },
  {
   "cell_type": "markdown",
   "id": "f61320ac-e634-4f21-82c8-13c42efd57f8",
   "metadata": {},
   "source": [
    "The link to the documentation is:\n",
    "https://open-meteo.com/en/docs?latitude=47.13&longitude=7.24&hourly=&timezone=auto&forecast_days=3&current=temperature_2m,apparent_temperature,rain"
   ]
  },
  {
   "cell_type": "code",
   "execution_count": 20,
   "id": "70327fde-da16-4f42-b7ac-57d70183a327",
   "metadata": {},
   "outputs": [],
   "source": [
    "import requests\n",
    "\n",
    "response = requests.get(\"https://api.open-meteo.com/v1/forecast?latitude=47.13&longitude=7.24&current=temperature_2m,apparent_temperature,rain&timezone=auto&forecast_days=3\")\n",
    "\n",
    "data = response.json()\n",
    "\n",
    "#print(data)"
   ]
  },
  {
   "cell_type": "markdown",
   "id": "308c7d33-4dd5-417f-a7b4-de6cb7ca5057",
   "metadata": {},
   "source": [
    "I looked for \"reverse\" Geocoder and found Geopy which worked well for printing the country:"
   ]
  },
  {
   "cell_type": "code",
   "execution_count": 21,
   "id": "c39ab58c-3c55-4f15-ba83-77c0d8c768ce",
   "metadata": {},
   "outputs": [
    {
     "name": "stdout",
     "output_type": "stream",
     "text": [
      "Switzerland\n"
     ]
    }
   ],
   "source": [
    "from geopy.geocoders import Nominatim\n",
    "\n",
    "geolocator = Nominatim(user_agent=\"my_app\")\n",
    "location = geolocator.reverse((47.13, 7.24), language='en')\n",
    "\n",
    "#print(location.address)\n",
    "#print(location.raw['address']['country'])\n",
    "\n",
    "country = location.raw['address']['country']\n",
    "print(country)"
   ]
  },
  {
   "cell_type": "markdown",
   "id": "a76728c7-9b3a-4858-b470-b44582f8ae49",
   "metadata": {},
   "source": [
    "Print out the difference between the current temperature and how warm it feels. Use \"It feels ___ degrees colder\" or \"It feels ___ degrees warmer,\" not negative numbers."
   ]
  },
  {
   "cell_type": "code",
   "execution_count": 31,
   "id": "0ecad6c5-d9f0-4f52-b6b0-290d21ba4f4a",
   "metadata": {},
   "outputs": [
    {
     "name": "stdout",
     "output_type": "stream",
     "text": [
      "It feels 0.20 degrees colder.\n"
     ]
    }
   ],
   "source": [
    "current_temp=data[\"current\"][\"temperature_2m\"]\n",
    "current_felt_temp=data[\"current\"][\"apparent_temperature\"]\n",
    "if current_temp>current_felt_temp:\n",
    "    print(f\"It feels {abs(current_temp-current_felt_temp):.2f} degrees colder.\")\n",
    "elif current_temp>current_felt_temp:\n",
    "    print(f\"It feels {abs(current_temp-current_felt_temp):.2f} degrees warmer.\")\n",
    "else:\n",
    "    print(f\"The actual temperature and felt temperature are the same.\")"
   ]
  },
  {
   "cell_type": "markdown",
   "id": "3f2c5607-1f81-4aa1-99b0-abcf06df1f4a",
   "metadata": {},
   "source": [
    "What's the current temperature at Heathrow International Airport?"
   ]
  },
  {
   "cell_type": "code",
   "execution_count": 32,
   "id": "285c0c32-2abb-405d-b3c9-69425300858c",
   "metadata": {},
   "outputs": [
    {
     "name": "stdout",
     "output_type": "stream",
     "text": [
      "13.9\n"
     ]
    }
   ],
   "source": [
    "response = requests.get(\"https://api.open-meteo.com/v1/forecast?latitude=51.4712&longitude=-0.4565&hourly=temperature_2m&current=temperature_2m&timezone=auto&forecast_days=3&forecast_hours=24\")\n",
    "\n",
    "data = response.json()\n",
    "\n",
    "current_temp_lhr=data[\"current\"][\"temperature_2m\"]\n",
    "print(current_temp_lhr)"
   ]
  },
  {
   "cell_type": "markdown",
   "id": "02b13d73-a661-4d19-9896-2ae25534fc3e",
   "metadata": {},
   "source": [
    "What URL would I use to request a 3-day forecast at Heathrow?\n",
    "\n",
    "https://api.open-meteo.com/v1/forecast?latitude=51.4712&longitude=-0.4565&hourly=temperature_2m&current=temperature_2m&timezone=auto&forecast_days=3&forecast_hours=24"
   ]
  },
  {
   "cell_type": "markdown",
   "id": "65bd71b7-585c-4a7a-adb7-0970cd4e28fb",
   "metadata": {},
   "source": [
    "Print the date of each of the 3 days you're getting a forecast for"
   ]
  },
  {
   "cell_type": "code",
   "execution_count": 74,
   "id": "57d1c801-517c-46de-83f7-17b410795760",
   "metadata": {},
   "outputs": [
    {
     "name": "stdout",
     "output_type": "stream",
     "text": [
      "2025-06-10\n",
      "2025-06-11\n",
      "2025-06-12\n"
     ]
    }
   ],
   "source": [
    "response = requests.get(\"https://api.open-meteo.com/v1/forecast?latitude=51.4712&longitude=-0.4565&daily=temperature_2m_max&current=temperature_2m&timezone=auto&forecast_days=3&forecast_hours=24\")\n",
    "\n",
    "data_lhr = response.json()\n",
    "\n",
    "for day in data_lhr[\"daily\"][\"time\"]:\n",
    "    print(day)"
   ]
  },
  {
   "cell_type": "markdown",
   "id": "920fa144-f0e4-4d30-8636-afbeed4d1486",
   "metadata": {},
   "source": [
    "Print the maximum temperature of each of the days."
   ]
  },
  {
   "cell_type": "code",
   "execution_count": 79,
   "id": "45515360-bad7-413a-83d8-cc2158e3a14a",
   "metadata": {},
   "outputs": [
    {
     "name": "stdout",
     "output_type": "stream",
     "text": [
      "2025-06-10: 22.0 degrees Celsius.\n",
      "2025-06-11: 23.7 degrees Celsius.\n",
      "2025-06-12: 23.0 degrees Celsius.\n"
     ]
    }
   ],
   "source": [
    "temps = data_lhr[\"daily\"][\"temperature_2m_max\"]\n",
    "dates = data_lhr[\"daily\"][\"time\"]\n",
    "\n",
    "for i in range(len(dates)):\n",
    "   temp = temps[i]\n",
    "   date = dates[i]\n",
    "   print(f\"{date}: {temp} degrees Celsius.\")"
   ]
  },
  {
   "cell_type": "markdown",
   "id": "bae8c8a1-3e6c-4551-9145-384d5651a4ae",
   "metadata": {},
   "source": [
    "Print only the day with the highest maximum temperature. I can't figure out, why the hottest_day gives me "
   ]
  },
  {
   "cell_type": "code",
   "execution_count": 76,
   "id": "80fe6e4a-579d-411f-b3a1-fa00ece9bdb4",
   "metadata": {},
   "outputs": [
    {
     "name": "stdout",
     "output_type": "stream",
     "text": [
      "The hottest day is 2025-06-10. Maximum temperature: 24.7 degrees Celsius.\n"
     ]
    }
   ],
   "source": [
    "hottest_day = dates[0]\n",
    "\n",
    "for max_temp in range(len(temps)):\n",
    "    if max_temp > hottest_temp:\n",
    "            hottest_temp = temp\n",
    "            hottest_day = max_temp\n",
    "print(f\"The hottest day is {hottest_day}. Maximum temperature: {hottest_temp} degrees Celsius.\")"
   ]
  },
  {
   "cell_type": "markdown",
   "id": "3549b781-1191-4493-b266-a598d156720a",
   "metadata": {},
   "source": [
    "I found it a lot more complicated than weatherapi.com. But possibly I'm just more tired now than last time and don't seem to know what I'm doing. But: I thought weatherapi.com was more intuitive."
   ]
  },
  {
   "cell_type": "code",
   "execution_count": null,
   "id": "1c33e415-ea8c-4722-aee4-e92afabe0e2f",
   "metadata": {},
   "outputs": [],
   "source": [
    "VILECH MIT list(range(1977, 1981)) oder range(.....)\n",
    "\n",
    "ODER\n",
    "\n",
    "for i in range(5):\n",
    "    print(i)\n",
    "\n",
    "i stands for index, it's also an iterator\n",
    "\n",
    "prices=[item[\"price\"]] for item in data[\"results\"[\"...\"]]"
   ]
  }
 ],
 "metadata": {
  "kernelspec": {
   "display_name": "Python 3 (ipykernel)",
   "language": "python",
   "name": "python3"
  },
  "language_info": {
   "codemirror_mode": {
    "name": "ipython",
    "version": 3
   },
   "file_extension": ".py",
   "mimetype": "text/x-python",
   "name": "python",
   "nbconvert_exporter": "python",
   "pygments_lexer": "ipython3",
   "version": "3.12.10"
  }
 },
 "nbformat": 4,
 "nbformat_minor": 5
}
